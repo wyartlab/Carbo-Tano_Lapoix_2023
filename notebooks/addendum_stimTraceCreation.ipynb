{
 "cells": [
  {
   "cell_type": "code",
   "execution_count": 8,
   "metadata": {},
   "outputs": [],
   "source": [
    "import pandas as pd\n",
    "import sys\n",
    "import numpy as np\n",
    "import matplotlib.pyplot as plt\n",
    "\n",
    "sys.path.insert(1, '../utils/')\n",
    "from import_data import load_suite2p_outputs"
   ]
  },
  {
   "cell_type": "code",
   "execution_count": 5,
   "metadata": {},
   "outputs": [],
   "source": [
    "fishlabel = '201007_F02_chx10'\n",
    "plane = '70um'\n",
    "\n",
    "df_summary = pd.read_csv('/network/lustre/iss01/wyart/analyses/2pehaviour/MLR_analyses/data_summary_II.csv', )\n",
    "\n",
    "fish_mask = df_summary['fishlabel'] == fishlabel\n",
    "plane_mask = df_summary['plane'] == plane\n",
    "\n",
    "data_path = list(df_summary.loc[fish_mask & plane_mask, 'data_path'])[0]\n",
    "output_path = list(df_summary.loc[fish_mask & plane_mask, 'output_path'])[0]\n",
    "stim_path = list(df_summary.loc[fish_mask & plane_mask, 'stim_path'])[0]\n",
    "\n",
    "# build struct to save all output from this script\n",
    "struct = {}\n",
    "\n",
    "struct['frame_rate'] = frame_rate = float(df_summary.loc[fish_mask & plane_mask, 'frameRate'])\n",
    "struct['nSweeps'] = nSweeps = int(df_summary.loc[fish_mask & plane_mask, 'nSweeps'])\n",
    "struct['nStim'] = nStim = int(df_summary.loc[fish_mask & plane_mask, 'nStim'])\n",
    "\n",
    "\n",
    "F, Fneu, spks, stat, ops, iscell = load_suite2p_outputs('70um', data_path)\n",
    "\n",
    "nFrames = F.shape[1]\n",
    "time_indices = np.arange(nFrames)/frame_rate\n"
   ]
  },
  {
   "cell_type": "code",
   "execution_count": 6,
   "metadata": {},
   "outputs": [],
   "source": [
    "sweep_duration = 10\n",
    "# sweep_duration = abf.sweepLengthSec\n",
    "# nSweeps = abf.sweepCount\n",
    "time_to_stim = 0.1614\n",
    "first_sweep_diff = 0.156\n",
    "\n",
    "stim_trace = np.zeros((time_indices.shape))\n",
    "stims_start_time = [np.nan]*nSweeps\n",
    "\n",
    "sweep_start = 0\n",
    "for sweep in range(nSweeps):\n",
    "    \n",
    "    # all variables bellow are time\n",
    "    if sweep == 0:\n",
    "        sweep_end = sweep_start + sweep_duration - first_sweep_diff\n",
    "        stim_start = first_sweep_diff - time_to_stim\n",
    "    else:\n",
    "        sweep_end = sweep_start + sweep_duration\n",
    "        stim_start = sweep_start + time_to_stim\n",
    "    \n",
    "    # these ones are frame_indices\n",
    "    sweep_indices = np.where((time_indices >= sweep_start) & (time_indices < sweep_end))[0]\n",
    "    stims_start_time[sweep] = stim_start\n",
    "        \n",
    "    sweep_start = sweep_end\n",
    "    \n",
    "# remove the ghost index of the stims start list\n",
    "stims_start_time = stims_start_time[nSweeps-nStim:]\n",
    "stims_start = [np.argmin(abs(time_indices-i)) for i in stims_start_time]\n",
    "\n",
    "stim_trace[stims_start] = 1"
   ]
  },
  {
   "cell_type": "code",
   "execution_count": 15,
   "metadata": {},
   "outputs": [
    {
     "name": "stdout",
     "output_type": "stream",
     "text": [
      "[506, 675, 843, 1012, 1181, 1349, 1518, 1687, 1856]\n"
     ]
    },
    {
     "data": {
      "text/plain": [
       "Text(0.5, 0, 'Time [s]')"
      ]
     },
     "execution_count": 15,
     "metadata": {},
     "output_type": "execute_result"
    },
    {
     "data": {
      "image/png": "[encoded data removed]",
      "text/plain": [
       "<Figure size 432x288 with 1 Axes>"
      ]
     },
     "metadata": {
      "needs_background": "light"
     },
     "output_type": "display_data"
    }
   ],
   "source": [
    "print(stims_start)\n",
    "\n",
    "plt.plot(time_indices, stim_trace)\n",
    "plt.xlabel('Time [s]')"
   ]
  },
  {
   "cell_type": "code",
   "execution_count": null,
   "metadata": {},
   "outputs": [],
   "source": [
    "np.save('/network/lustre/iss01/wyart/analyses/mathilde.lapoix/MLR/Calcium_Imaging/201007_F02_chx10/stim_trace.npy', stim_trace)\n",
    "np.save('/network/lustre/iss01/wyart/analyses/mathilde.lapoix/MLR/Calcium_Imaging/201007_F02_chx10/stims_start.npy', stims_start)"
   ]
  }
 ],
 "metadata": {
  "kernelspec": {
   "display_name": "Python 3",
   "language": "python",
   "name": "python3"
  },
  "language_info": {
   "codemirror_mode": {
    "name": "ipython",
    "version": 3
   },
   "file_extension": ".py",
   "mimetype": "text/x-python",
   "name": "python",
   "nbconvert_exporter": "python",
   "pygments_lexer": "ipython3",
   "version": "3.7.4"
  }
 },
 "nbformat": 4,
 "nbformat_minor": 2
}
